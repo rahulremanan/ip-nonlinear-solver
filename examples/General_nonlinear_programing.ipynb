{
 "cells": [
  {
   "cell_type": "markdown",
   "metadata": {},
   "source": [
    "# Example:"
   ]
  },
  {
   "cell_type": "code",
   "execution_count": 1,
   "metadata": {},
   "outputs": [
    {
     "name": "stdout",
     "output_type": "stream",
     "text": [
      "d((((a * (x * x)) + (b * x)) + c), x) = ((((a * ((x * 1) + (1 * x))) + (0 * (x * x))) + ((b * 1) + (0 * x))) + 0)\n"
     ]
    }
   ],
   "source": [
    "class Expr:  \n",
    "  def __add__(self, other):  \n",
    "    return Plus(self, other)  \n",
    "  def __mul__(self, other):  \n",
    "    return Times(self, other)  \n",
    "  \n",
    "class Int(Expr):  \n",
    "  def __init__(self, n):  \n",
    "    self.n = n  \n",
    "  def d(self, v):  \n",
    "    return Int(0)  \n",
    "  def __str__(self):  \n",
    "    return str(self.n)  \n",
    "  \n",
    "class Var(Expr):  \n",
    "  def __init__(self, var):  \n",
    "    self.var = var  \n",
    "  def d(self, v):  \n",
    "    return Int(self.var == v and 1 or 0)  \n",
    "  def __str__(self):  \n",
    "    return self.var  \n",
    "  \n",
    "class Plus(Expr):  \n",
    "  def __init__(self, a, b):  \n",
    "    self.e1 = a  \n",
    "    self.e2 = b  \n",
    "  def d(self, v):  \n",
    "    return Plus(self.e1.d(v), self.e2.d(v))  \n",
    "  def __str__(self):  \n",
    "    return \"(%s + %s)\" % (self.e1, self.e2)  \n",
    "  \n",
    "class Times(Expr):  \n",
    "  def __init__(self, a, b):  \n",
    "    self.e1 = a  \n",
    "    self.e2 = b  \n",
    "  def d(self, v):  \n",
    "    return Plus(Times(self.e1, self.e2.d(v)), Times(self.e1.d(v), self.e2))  \n",
    "  def __str__(self):  \n",
    "    return \"(%s * %s)\" % (self.e1, self.e2)  \n",
    "  \n",
    "if __name__ == \"__main__\":  \n",
    "  x = Var(\"x\")  \n",
    "  a = Var(\"a\")  \n",
    "  b = Var(\"b\")  \n",
    "  c = Var(\"c\")  \n",
    "  e = a*(x*x) + b*x + c  \n",
    "  print (\"d(%s, x) = %s\" % (e, e.d(\"x\")))"
   ]
  },
  {
   "cell_type": "code",
   "execution_count": 2,
   "metadata": {},
   "outputs": [
    {
     "data": {
      "text/plain": [
       "-3/x**2"
      ]
     },
     "execution_count": 2,
     "metadata": {},
     "output_type": "execute_result"
    }
   ],
   "source": [
    "from sympy import *\n",
    "x = Symbol(\"x\")\n",
    "f = Function(\"f\")(x)\n",
    "diff(3*(1/x+1) + 3, x)\n",
    "diff(f, x).subs(f, 3*(1/x+1) + 3).doit()"
   ]
  },
  {
   "cell_type": "code",
   "execution_count": 3,
   "metadata": {},
   "outputs": [
    {
     "name": "stdout",
     "output_type": "stream",
     "text": [
      "[1.95282196 0.08865598]\n"
     ]
    }
   ],
   "source": [
    "from __future__ import division\n",
    "import numpy as np\n",
    "import ipsolver\n",
    "from ipsolver import minimize_constrained, NonlinearConstraint, BoxConstraint\n",
    "\n",
    "# Define objective function and derivatives\n",
    "fun = lambda x: 1/2*(x[0] - 2)**2 + 1/2*(x[1] - 1/2)**2\n",
    "grad = lambda x: np.array([x[0] - 2, x[1] - 1/2])\n",
    "hess =  lambda x: np.eye(2)\n",
    "# Define nonlinear constraint\n",
    "c = lambda x: np.array([1/(x[0] + 1) - x[1],])\n",
    "c_jac = lambda x: np.array([[-1/(x[0] + 1)**2, -1]])\n",
    "c_hess = lambda x, v: 2*v[0]*np.array([[1/(x[0] + 1)**3, 0], [0, 0]])\n",
    "nonlinear = NonlinearConstraint(c, ('greater', 1/4), c_jac, c_hess)\n",
    "# Define box constraint\n",
    "box = BoxConstraint((\"greater\",))\n",
    "\n",
    "# Define initial point\n",
    "x0 = np.array([0, 0])\n",
    "# Apply solver\n",
    "result = minimize_constrained(fun, x0, grad, hess, (nonlinear, box))\n",
    "\n",
    "# Print result\n",
    "print(result.x)"
   ]
  },
  {
   "cell_type": "code",
   "execution_count": 4,
   "metadata": {},
   "outputs": [
    {
     "data": {
      "text/plain": [
       "2*x"
      ]
     },
     "execution_count": 4,
     "metadata": {},
     "output_type": "execute_result"
    }
   ],
   "source": [
    "from sympy import *\n",
    "x = Symbol(\"x\")\n",
    "y = Symbol(\"y\")\n",
    "f = Function(\"f\")(x)\n",
    "diff(f, x).subs(f, x**2 + y**2).doit()\n"
   ]
  },
  {
   "cell_type": "code",
   "execution_count": 5,
   "metadata": {},
   "outputs": [
    {
     "data": {
      "text/plain": [
       "2*y"
      ]
     },
     "execution_count": 5,
     "metadata": {},
     "output_type": "execute_result"
    }
   ],
   "source": [
    "f = Function(\"f\")(y)\n",
    "diff(f, y).subs(f, x**2 + y**2).doit()"
   ]
  },
  {
   "cell_type": "code",
   "execution_count": 6,
   "metadata": {},
   "outputs": [
    {
     "name": "stderr",
     "output_type": "stream",
     "text": [
      "/usr/local/lib/python3.6/dist-packages/ipsolver/_large_scale_constrained/projections.py:104: UserWarning: Singular Jacobian matrix. Using dense SVD decomposition to perform the factorizations.\n",
      "  warn(\"Singular Jacobian matrix. Using dense SVD decomposition to \"\n"
     ]
    },
    {
     "name": "stdout",
     "output_type": "stream",
     "text": [
      "[-0.81028985 -1.15906443]\n"
     ]
    }
   ],
   "source": [
    "# Define objective function and derivatives\n",
    "fun = lambda x: (x[0])*(x[1]**2)\n",
    "grad = lambda x: np.array([x[0], x[1]])\n",
    "hess =  lambda x: np.eye(2)\n",
    "# Define nonlinear constraint\n",
    "c = lambda x: np.array([(x[0]**2 + x[1]**2),])\n",
    "c_jac = lambda x: np.array([[2*x[0], 2*x[1]]])\n",
    "c_hess = lambda x, v: 2*v[0]*np.array([[2, 2], [0, 0]])\n",
    "nonlinear = NonlinearConstraint(c, ('equals', 2), c_jac, c_hess)\n",
    "# Define box constraint\n",
    "box = BoxConstraint(('less',0))\n",
    "# Define initial point\n",
    "x0 = np.array([0, 0])\n",
    "# Apply solver\n",
    "result = minimize_constrained(fun, x0, grad, hess, (nonlinear, box))\n",
    "# Print result\n",
    "print(result.x)"
   ]
  },
  {
   "cell_type": "code",
   "execution_count": null,
   "metadata": {},
   "outputs": [],
   "source": []
  }
 ],
 "metadata": {
  "kernelspec": {
   "display_name": "Python 3",
   "language": "python",
   "name": "python3"
  },
  "language_info": {
   "codemirror_mode": {
    "name": "ipython",
    "version": 3
   },
   "file_extension": ".py",
   "mimetype": "text/x-python",
   "name": "python",
   "nbconvert_exporter": "python",
   "pygments_lexer": "ipython3",
   "version": "3.6.3"
  }
 },
 "nbformat": 4,
 "nbformat_minor": 2
}
